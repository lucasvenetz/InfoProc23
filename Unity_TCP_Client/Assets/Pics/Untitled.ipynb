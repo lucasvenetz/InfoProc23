{
 "cells": [
  {
   "cell_type": "code",
   "execution_count": 7,
   "id": "68ee1a07-61e4-4155-bb06-e836d1c1a40f",
   "metadata": {},
   "outputs": [],
   "source": [
    "from PIL import Image\n",
    "\n",
    "def remove_white_pixels(image_path, output_path):\n",
    "    # 打开图像\n",
    "    image = Image.open(image_path)\n",
    "\n",
    "    # 将图像转换为RGBA模式（如果还不是RGBA模式）\n",
    "    image = image.convert(\"RGBA\")\n",
    "\n",
    "    # 获取图像数据\n",
    "    data = image.getdata()\n",
    "\n",
    "    # 创建一个新的列表来存储处理后的像素数据\n",
    "    new_data = []\n",
    "\n",
    "    # 定义白色像素的RGB值\n",
    "    white = (255, 255, 255)\n",
    "\n",
    "    # 遍历每个像素\n",
    "    for item in data:\n",
    "        # 如果像素是白色，则将其设置为透明\n",
    "        if item[:3] == white:\n",
    "            new_data.append((255, 255, 255, 0))\n",
    "        else:\n",
    "            new_data.append(item)\n",
    "\n",
    "    # 更新图像数据\n",
    "    image.putdata(new_data)\n",
    "\n",
    "    # 保存处理后的图像\n",
    "    image.save(output_path, \"PNG\")\n",
    "\n",
    "# 使用示例\n",
    "remove_white_pixels(\"Leg1.png\", \"Leg1B.png\")"
   ]
  },
  {
   "cell_type": "code",
   "execution_count": null,
   "id": "e81c05d6-5042-4949-ab83-6a9bdb10d38b",
   "metadata": {},
   "outputs": [],
   "source": []
  }
 ],
 "metadata": {
  "kernelspec": {
   "display_name": "Python [conda env:base] *",
   "language": "python",
   "name": "conda-base-py"
  },
  "language_info": {
   "codemirror_mode": {
    "name": "ipython",
    "version": 3
   },
   "file_extension": ".py",
   "mimetype": "text/x-python",
   "name": "python",
   "nbconvert_exporter": "python",
   "pygments_lexer": "ipython3",
   "version": "3.12.7"
  }
 },
 "nbformat": 4,
 "nbformat_minor": 5
}
